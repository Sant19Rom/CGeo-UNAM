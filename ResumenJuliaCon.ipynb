{
 "cells": [
  {
   "cell_type": "markdown",
   "metadata": {},
   "source": [
    "# Resumen de Computation and Data in a Polyglot World, en el JuliaCon 2017, por Fernando Pérez"
   ]
  },
  {
   "cell_type": "markdown",
   "metadata": {},
   "source": [
    "Lo que iPython y Jupyter han tratado de hacer a lo largo de estos años de proyecto es dar las herramientas para el cálculo de base de datoz de forma independiente y de código abierto. Lo ideal es que se use para la ciencia, de una manera eficiente y segura, como en la física, astronomía, neurociencias, etc. Fernando Pérez asegura que toda esta informatica estará escrita en JavaScript. Declara que JUlia es más amigable que MatLab y recomienda una transición.\n",
    "Estas herramientas que ya se usan en la investigación tienen un impacto en la educación, por lo tanto, se ofrecen cursos apra el manejo de éstas, desde Github."
   ]
  },
  {
   "cell_type": "code",
   "execution_count": null,
   "metadata": {
    "collapsed": true
   },
   "outputs": [],
   "source": []
  }
 ],
 "metadata": {
  "kernelspec": {
   "display_name": "Julia 0.5.2",
   "language": "julia",
   "name": "julia-0.5"
  },
  "language_info": {
   "file_extension": ".jl",
   "mimetype": "application/julia",
   "name": "julia",
   "version": "0.5.2"
  }
 },
 "nbformat": 4,
 "nbformat_minor": 2
}
