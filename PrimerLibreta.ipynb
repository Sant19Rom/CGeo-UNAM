{
 "cells": [
  {
   "cell_type": "markdown",
   "metadata": {},
   "source": [
    "# TALLER JULIA"
   ]
  },
  {
   "cell_type": "code",
   "execution_count": 2,
   "metadata": {},
   "outputs": [
    {
     "data": {
      "text/plain": [
       "Dict{String,VersionNumber} with 31 entries:\n",
       "  \"PDMats\"            => v\"0.6.0\"\n",
       "  \"Distributions\"     => v\"0.13.0\"\n",
       "  \"Rmath\"             => v\"0.1.6\"\n",
       "  \"SortingAlgorithms\" => v\"0.1.1\"\n",
       "  \"FixedPointNumbers\" => v\"0.3.8\"\n",
       "  \"Conda\"             => v\"0.5.3\"\n",
       "  \"SHA\"               => v\"0.3.3\"\n",
       "  \"PyCall\"            => v\"1.12.0\"\n",
       "  \"LaTeXStrings\"      => v\"0.2.1\"\n",
       "  \"ZMQ\"               => v\"0.4.3\"\n",
       "  \"JSON\"              => v\"0.12.0\"\n",
       "  \"StatsBase\"         => v\"0.15.0\"\n",
       "  \"DataArrays\"        => v\"0.4.1\"\n",
       "  \"ColorTypes\"        => v\"0.5.1\"\n",
       "  \"Compat\"            => v\"0.25.2\"\n",
       "  \"DataStructures\"    => v\"0.5.3\"\n",
       "  \"IJulia\"            => v\"1.5.0\"\n",
       "  \"PyPlot\"            => v\"2.3.2\"\n",
       "  \"Calculus\"          => v\"0.2.2\"\n",
       "  \"Colors\"            => v\"0.7.3\"\n",
       "  \"GZip\"              => v\"0.3.0\"\n",
       "  \"MbedTLS\"           => v\"0.4.5\"\n",
       "  \"MacroTools\"        => v\"0.3.6\"\n",
       "  \"FileIO\"            => v\"0.3.1\"\n",
       "  \"QuadGK\"            => v\"0.1.2\"\n",
       "  ⋮                   => ⋮"
      ]
     },
     "execution_count": 2,
     "metadata": {},
     "output_type": "execute_result"
    }
   ],
   "source": [
    "Pkg.installed()"
   ]
  },
  {
   "cell_type": "code",
   "execution_count": 3,
   "metadata": {},
   "outputs": [
    {
     "name": "stderr",
     "output_type": "stream",
     "text": [
      "\u001b[1m\u001b[34mINFO: Nothing to be done\n",
      "\u001b[0m\u001b[1m\u001b[34mINFO: METADATA is out-of-date — you may not have the latest version of PyPlot\n",
      "\u001b[0m\u001b[1m\u001b[34mINFO: Use `Pkg.update()` to get the latest versions of your packages\n",
      "\u001b[0m"
     ]
    }
   ],
   "source": [
    "Pkg.add(\"PyPlot\")"
   ]
  },
  {
   "cell_type": "code",
   "execution_count": null,
   "metadata": {},
   "outputs": [
    {
     "name": "stderr",
     "output_type": "stream",
     "text": [
      "\u001b[1m\u001b[34mINFO: Precompiling module PyPlot.\n",
      "\u001b[0m"
     ]
    }
   ],
   "source": [
    "using PyPlot"
   ]
  },
  {
   "cell_type": "code",
   "execution_count": 4,
   "metadata": {
    "collapsed": true
   },
   "outputs": [],
   "source": [
    "ra = rand(1000);"
   ]
  },
  {
   "cell_type": "code",
   "execution_count": 5,
   "metadata": {},
   "outputs": [
    {
     "ename": "LoadError",
     "evalue": "UndefVarError: plot not defined",
     "output_type": "error",
     "traceback": [
      "UndefVarError: plot not defined",
      ""
     ]
    }
   ],
   "source": [
    "plot(ra)\n",
    "xlabel(\"Index\")\n",
    "ylabel(\"Rand\")"
   ]
  },
  {
   "cell_type": "code",
   "execution_count": null,
   "metadata": {
    "collapsed": true
   },
   "outputs": [],
   "source": []
  }
 ],
 "metadata": {
  "kernelspec": {
   "display_name": "Julia 0.5.2",
   "language": "julia",
   "name": "julia-0.5"
  },
  "language_info": {
   "file_extension": ".jl",
   "mimetype": "application/julia",
   "name": "julia",
   "version": "0.5.2"
  }
 },
 "nbformat": 4,
 "nbformat_minor": 2
}
